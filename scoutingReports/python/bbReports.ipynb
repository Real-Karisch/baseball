{
 "metadata": {
  "language_info": {
   "codemirror_mode": {
    "name": "ipython",
    "version": 3
   },
   "file_extension": ".py",
   "mimetype": "text/x-python",
   "name": "python",
   "nbconvert_exporter": "python",
   "pygments_lexer": "ipython3",
   "version": "3.7.10"
  },
  "orig_nbformat": 2,
  "kernelspec": {
   "name": "python3710jvsc74a57bd0e7ad3e331d89125a35e1aa51e4cbfadb7339476d992231fff57158d187b2117c",
   "display_name": "Python 3.7.10 64-bit ('base': conda)"
  }
 },
 "nbformat": 4,
 "nbformat_minor": 2,
 "cells": [
  {
   "cell_type": "code",
   "execution_count": 1,
   "metadata": {},
   "outputs": [],
   "source": [
    "import pandas as pd\n",
    "import psycopg2"
   ]
  },
  {
   "cell_type": "code",
   "execution_count": 2,
   "metadata": {},
   "outputs": [],
   "source": [
    "conn = psycopg2.connect(\n",
    "    host = \"localhost\",\n",
    "    database = \"baseball\",\n",
    "    user = \"karisch\",\n",
    "    password = \"cocacola\",\n",
    "    port = 5432\n",
    ")"
   ]
  },
  {
   "cell_type": "code",
   "execution_count": 11,
   "metadata": {},
   "outputs": [],
   "source": [
    "with conn.cursor() as cur:\n",
    "    cur.execute(\"\"\"\n",
    "        SELECT pitches.\"typeCode\"\n",
    "        FROM games INNER JOIN pitches\n",
    "            ON pitches.\"gamePk\" = games.pk\n",
    "        WHERE games.\"season\" >= 2019\n",
    "        ;\n",
    "    \"\"\")\n",
    "    raw = cur.fetchall()\n",
    "    #cols = [desc[0] for desc in cur.description]\n",
    "    #full = pd.DataFrame(raw, columns=cols)"
   ]
  },
  {
   "cell_type": "code",
   "execution_count": 22,
   "metadata": {},
   "outputs": [],
   "source": [
    "typeDict = {}\n",
    "for pitch in types:\n",
    "    if pitch not in typeDict.keys():\n",
    "        typeDict[pitch] = 1\n",
    "    else:\n",
    "        typeDict[pitch] += 1"
   ]
  },
  {
   "cell_type": "code",
   "execution_count": 25,
   "metadata": {},
   "outputs": [
    {
     "output_type": "execute_result",
     "data": {
      "text/plain": [
       "{'FF': 35.72434586555009,\n",
       " 'FT': 6.086037571874268,\n",
       " 'SL': 17.779459158644638,\n",
       " 'KC': 2.281489838974959,\n",
       " 'CU': 8.961389438937605,\n",
       " 'CH': 11.183416841210517,\n",
       " 'SI': 10.014274796503152,\n",
       " 'FC': 6.412795096635988,\n",
       " 'FS': 1.5068581916177022,\n",
       " 'KN': 0.02125019773166051,\n",
       " 'EP': 0.005431664891052237,\n",
       " 'CS': 0.01943964276797643,\n",
       " 'FO': 0.0037164022938778467,\n",
       " 'SV': 9.529236650968837e-05}"
      ]
     },
     "metadata": {},
     "execution_count": 25
    }
   ],
   "source": [
    "typePerc = {}\n",
    "for pitch, num in typeDict.items():\n",
    "    typePerc[pitch] = num / len(types) * 100\n",
    "typePerc"
   ]
  },
  {
   "cell_type": "code",
   "execution_count": 17,
   "metadata": {},
   "outputs": [],
   "source": [
    "types = [x[0] for x in raw if x[0] is not None]"
   ]
  },
  {
   "cell_type": "code",
   "execution_count": null,
   "metadata": {},
   "outputs": [],
   "source": [
    "with conn.cursor() as cur:\n",
    "    cur.execute(\"\"\"\n",
    "        SELECT\n",
    "            pitches.*\n",
    "        FROM atbats INNER JOIN pitches\n",
    "            ON atbats.\"gamePk\" = pitches.\"gamePk\" AND atbats.\"atBatIndex\" = pitches.\"atBatIndex\"\n",
    "        WHERE atbats.\"batterID\" = 514888\n",
    "        ;\n",
    "    \"\"\")\n",
    "    data = cur.fetchall()\n",
    "    cols = [desc[0] for desc in cur.description]\n",
    "\n",
    "df = pd.DataFrame(data, columns=cols)\n",
    "df = df[~df['isBall'].isnull()] #filter out all non-pitches (i.e. pickoff attempts)\n",
    "df.sort_values(by=['gamePk', 'atBatIndex', 'pitchIndex'], ascending=True, inplace=True) #put in order (will need to revisit for more logical order (by date))\n",
    "df.reset_index(drop=True, inplace=True)\n",
    "\n",
    "df['newGame'] = df['gamePk'].reset_index(drop=True) != pd.Series(-100).append(df['gamePk'][:-1]).reset_index(drop=True) #new variable bool that says whether the game is different from prior entry\n",
    "atBatChange = df['atBatIndex'].reset_index(drop=True) != pd.Series(-100).append(df['atBatIndex'][:-1]).reset_index(drop=True)\n",
    "df['newAtBat'] = df['newGame'] | atBatChange #new variable for different atbat vs prior\n",
    "df['priorTypeCode'] = pd.Series('na').append(df['typeCode'][:-1]).reset_index(drop=True)\n",
    "df.loc[df['newAtBat'], 'priorTypeCode'] = 'na'"
   ]
  },
  {
   "cell_type": "code",
   "execution_count": null,
   "metadata": {},
   "outputs": [],
   "source": [
    "result = df[['typeCode', 'priorTypeCode', 'callCode', 'gamePk']].groupby(by=['typeCode', 'priorTypeCode', 'callCode'], as_index = False).count()\n",
    "result.columns = list(result.columns)[:-1] + ['count']\n",
    "result.to_csv('penis.csv')"
   ]
  },
  {
   "cell_type": "code",
   "execution_count": null,
   "metadata": {},
   "outputs": [],
   "source": [
    "[56, 7] + [5]"
   ]
  },
  {
   "cell_type": "code",
   "execution_count": null,
   "metadata": {},
   "outputs": [],
   "source": [
    "result"
   ]
  },
  {
   "cell_type": "code",
   "execution_count": null,
   "metadata": {},
   "outputs": [],
   "source": [
    "df.to_csv('penis.csv')"
   ]
  },
  {
   "cell_type": "code",
   "execution_count": null,
   "metadata": {},
   "outputs": [],
   "source": [
    "df['callDesc'].unique()"
   ]
  }
 ]
}