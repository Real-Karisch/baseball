{
 "nbformat": 4,
 "nbformat_minor": 2,
 "metadata": {
  "language_info": {
   "name": "python",
   "codemirror_mode": {
    "name": "ipython",
    "version": 3
   },
   "version": "3.7.3-final"
  },
  "orig_nbformat": 2,
  "file_extension": ".py",
  "mimetype": "text/x-python",
  "name": "python",
  "npconvert_exporter": "python",
  "pygments_lexer": "ipython3",
  "version": 3,
  "kernelspec": {
   "name": "python37364bitanaconda3virtualenvbfa5aa89ad4a4a17a8c8a14bdb5884cf",
   "display_name": "Python 3.7.3 64-bit ('anaconda3': virtualenv)"
  }
 },
 "cells": [
  {
   "cell_type": "code",
   "execution_count": 4,
   "metadata": {},
   "outputs": [
    {
     "output_type": "stream",
     "name": "stdout",
     "text": "Populating the interactive namespace from numpy and matplotlib\n"
    }
   ],
   "source": [
    "%pylab inline"
   ]
  },
  {
   "cell_type": "code",
   "execution_count": 9,
   "metadata": {},
   "outputs": [],
   "source": [
    "import statsapi\n",
    "import numpy as np\n",
    "import pandas as pd\n",
    "import time\n",
    "from baseball_data import *\n",
    "from attributes import *\n",
    "\n",
    "\n",
    "pkfire = [599371, 415239]\n",
    "\n",
    "#jack = pd.read_pickle(\"testDataFramePickle.pkl\")\n",
    "\n",
    "#print(jack.pitchHand.unique())\n",
    "\n",
    "penis = generateGamePksFromDates('06/04/2018', '06/04/2018')\n",
    "\n",
    "len(penis)\n",
    "\n",
    "cock = pitchDatasetCreateMaster(penis, defaultEvent, defaultAtBat, defaultGame)\n",
    "\n",
    "#cock.to_csv(path_or_buf = 'test.csv', index = False)"
   ]
  },
  {
   "cell_type": "code",
   "execution_count": 68,
   "metadata": {},
   "outputs": [
    {
     "output_type": "stream",
     "name": "stdout",
     "text": "89.96853268543879\n"
    }
   ],
   "source": [
    "start4 = time.time()\n",
    "\n",
    "#week = generateGamePksFromDates('06/09/2019', '06/15/2019')\n",
    "#week2and3 = generateGamePksFromDates('06/16/2019', '06/29/2019')\n",
    "#week4to7 = generateGamePksFromDates('06/30/2019', '07/27/2019')\n",
    "\n",
    "#jack = pitchDatasetCreateMaster(week, defaultEvent, defaultAtBat, defaultGame)\n",
    "#jack2 = pitchDatasetCreateMaster(week2and3, defaultEvent, defaultAtBat, defaultGame)\n",
    "#jack3 = pitchDatasetCreateMaster(week4to7, defaultEvent, defaultAtBat, defaultGame)\n",
    "\n",
    "end4 = time.time()\n",
    "\n",
    "print((end4 - start4) / 60)\n",
    "\n",
    "#jack3.to_pickle(path = 'rawData6.30.19-7.27.19.pkl')"
   ]
  },
  {
   "cell_type": "code",
   "execution_count": 71,
   "metadata": {},
   "outputs": [
    {
     "output_type": "stream",
     "name": "stdout",
     "text": "25.10269553263982\n52.70354548295339\n89.96853268543879\n335\n"
    }
   ],
   "source": [
    "print((end1 - start1) / 60) #this is to do the initial one week run above (6/9/19 - 6/15/19)\n",
    "\n",
    "print((end2 - start2) / 60) #this is the two week run\n",
    "\n",
    "print((end3 - start3) / 60) #4 week run\n",
    "\n",
    "print(len(week4to7))"
   ]
  },
  {
   "cell_type": "code",
   "execution_count": 72,
   "metadata": {},
   "outputs": [
    {
     "output_type": "stream",
     "name": "stdout",
     "text": "(31750, 83)\n(63400, 83)\n(111642, 83)\n(206792, 83)\n"
    }
   ],
   "source": [
    "#jack = pd.read_pickle('rawData6.9.19-6.15.19.pkl')\n",
    "#jack.to_pickle(path = 'rawData6.9.19-6.15.19.pkl')\n",
    "#jack2.to_pickle(path = 'rawData6.16.19-6.29.19.pkl')\n",
    "\n",
    "combinashList = [jack, jack2, jack3]\n",
    "combinash = pd.concat(combinashList)\n",
    "\n",
    "print(jack.shape)\n",
    "print(jack2.shape)\n",
    "print(jack3.shape)\n",
    "print(combinash.shape)"
   ]
  },
  {
   "cell_type": "code",
   "execution_count": 74,
   "metadata": {},
   "outputs": [],
   "source": [
    "combinash.to_csv(path_or_buf= 'rawData6.9.19-7.27.19.csv')"
   ]
  },
  {
   "cell_type": "code",
   "execution_count": 65,
   "metadata": {},
   "outputs": [
    {
     "output_type": "stream",
     "name": "stdout",
     "text": "1.6167647058823529\n3.3793437500000003\n"
    }
   ],
   "source": [
    "jackCopy = jack[:]\n",
    "\n",
    "badRows = jackCopy[jackCopy['szBottom'] == 'NA'].index\n",
    "\n",
    "jackCopy.drop(badRows, inplace=True)\n",
    "\n",
    "print(mean(list(jackCopy['szBottom'])))\n",
    "print(mean(list(jackCopy['szTop'])))"
   ]
  },
  {
   "cell_type": "code",
   "execution_count": 20,
   "metadata": {},
   "outputs": [
    {
     "output_type": "execute_result",
     "data": {
      "text/plain": "94"
     },
     "metadata": {},
     "execution_count": 20
    }
   ],
   "source": [
    "runnerCols = [x for x in cock.columns if 'runner' in x]\n",
    "\n",
    "#cock[runnerCols].replace({NaN: 'home'}, inplace = True)\n",
    "\n",
    "cock[runnerCols][0:5]\n",
    "\n",
    "len(week)\n",
    ""
   ]
  },
  {
   "cell_type": "code",
   "execution_count": 7,
   "metadata": {},
   "outputs": [
    {
     "output_type": "stream",
     "name": "stdout",
     "text": "[[0.81679858 0.9420469  0.49999262 0.96257082 0.49782675]\n [0.18436839 0.02900991 0.09467932 0.05743175 0.05320991]\n [0.98811902 0.14247544 0.19377238 0.65894416 0.54411194]\n [0.25111609 0.93532981 0.34557252 0.99983072 0.27100996]\n [0.05783058 0.11366408 0.48502423 0.80879307 0.1595019 ]]\n"
    },
    {
     "output_type": "execute_result",
     "data": {
      "text/plain": "<matplotlib.axes._subplots.AxesSubplot at 0x1a264cd4e0>"
     },
     "metadata": {},
     "execution_count": 7
    },
    {
     "output_type": "display_data",
     "data": {
      "text/plain": "<Figure size 432x288 with 2 Axes>",
      "image/svg+xml": "<?xml version=\"1.0\" encoding=\"utf-8\" standalone=\"no\"?>\n<!DOCTYPE svg PUBLIC \"-//W3C//DTD SVG 1.1//EN\"\n  \"http://www.w3.org/Graphics/SVG/1.1/DTD/svg11.dtd\">\n<!-- Created with matplotlib (https://matplotlib.org/) -->\n<svg height=\"248.518125pt\" version=\"1.1\" viewBox=\"0 0 349.43325 248.518125\" width=\"349.43325pt\" xmlns=\"http://www.w3.org/2000/svg\" xmlns:xlink=\"http://www.w3.org/1999/xlink\">\n <defs>\n  <style type=\"text/css\">\n*{stroke-linecap:butt;stroke-linejoin:round;white-space:pre;}\n  </style>\n </defs>\n <g id=\"figure_1\">\n  <g id=\"patch_1\">\n   <path d=\"M -0 248.518125 \nL 349.43325 248.518125 \nL 349.43325 0 \nL -0 0 \nz\n\" style=\"fill:none;\"/>\n  </g>\n  <g id=\"axes_1\">\n   <g id=\"patch_2\">\n    <path d=\"M 23.878125 224.64 \nL 291.718125 224.64 \nL 291.718125 7.2 \nL 23.878125 7.2 \nz\n\" style=\"fill:#ffffff;\"/>\n   </g>\n   <g id=\"QuadMesh_1\">\n    <path clip-path=\"url(#peec35bac9d)\" d=\"M 23.878125 7.2 \nL 77.446125 7.2 \nL 77.446125 50.688 \nL 23.878125 50.688 \nL 23.878125 7.2 \n\" style=\"fill:#ec7f63;\"/>\n    <path clip-path=\"url(#peec35bac9d)\" d=\"M 77.446125 7.2 \nL 131.014125 7.2 \nL 131.014125 50.688 \nL 77.446125 50.688 \nL 77.446125 7.2 \n\" style=\"fill:#ca3b37;\"/>\n    <path clip-path=\"url(#peec35bac9d)\" d=\"M 131.014125 7.2 \nL 184.582125 7.2 \nL 184.582125 50.688 \nL 131.014125 50.688 \nL 131.014125 7.2 \n\" style=\"fill:#d9dce1;\"/>\n    <path clip-path=\"url(#peec35bac9d)\" d=\"M 184.582125 7.2 \nL 238.150125 7.2 \nL 238.150125 50.688 \nL 184.582125 50.688 \nL 184.582125 7.2 \n\" style=\"fill:#c12b30;\"/>\n    <path clip-path=\"url(#peec35bac9d)\" d=\"M 238.150125 7.2 \nL 291.718125 7.2 \nL 291.718125 50.688 \nL 238.150125 50.688 \nL 238.150125 7.2 \n\" style=\"fill:#d8dce2;\"/>\n    <path clip-path=\"url(#peec35bac9d)\" d=\"M 23.878125 50.688 \nL 77.446125 50.688 \nL 77.446125 94.176 \nL 23.878125 94.176 \nL 23.878125 50.688 \n\" style=\"fill:#6c8ff1;\"/>\n    <path clip-path=\"url(#peec35bac9d)\" d=\"M 77.446125 50.688 \nL 131.014125 50.688 \nL 131.014125 94.176 \nL 77.446125 94.176 \nL 77.446125 50.688 \n\" style=\"fill:#3b4cc0;\"/>\n    <path clip-path=\"url(#peec35bac9d)\" d=\"M 131.014125 50.688 \nL 184.582125 50.688 \nL 184.582125 94.176 \nL 131.014125 94.176 \nL 131.014125 50.688 \n\" style=\"fill:#4f69d9;\"/>\n    <path clip-path=\"url(#peec35bac9d)\" d=\"M 184.582125 50.688 \nL 238.150125 50.688 \nL 238.150125 94.176 \nL 184.582125 94.176 \nL 184.582125 50.688 \n\" style=\"fill:#4358cb;\"/>\n    <path clip-path=\"url(#peec35bac9d)\" d=\"M 238.150125 50.688 \nL 291.718125 50.688 \nL 291.718125 94.176 \nL 238.150125 94.176 \nL 238.150125 50.688 \n\" style=\"fill:#4257c9;\"/>\n    <path clip-path=\"url(#peec35bac9d)\" d=\"M 23.878125 94.176 \nL 77.446125 94.176 \nL 77.446125 137.664 \nL 23.878125 137.664 \nL 23.878125 94.176 \n\" style=\"fill:#b8122a;\"/>\n    <path clip-path=\"url(#peec35bac9d)\" d=\"M 77.446125 94.176 \nL 131.014125 94.176 \nL 131.014125 137.664 \nL 77.446125 137.664 \nL 77.446125 94.176 \n\" style=\"fill:#5e7de7;\"/>\n    <path clip-path=\"url(#peec35bac9d)\" d=\"M 131.014125 94.176 \nL 184.582125 94.176 \nL 184.582125 137.664 \nL 131.014125 137.664 \nL 131.014125 94.176 \n\" style=\"fill:#7093f3;\"/>\n    <path clip-path=\"url(#peec35bac9d)\" d=\"M 184.582125 94.176 \nL 238.150125 94.176 \nL 238.150125 137.664 \nL 184.582125 137.664 \nL 184.582125 94.176 \n\" style=\"fill:#f6bda2;\"/>\n    <path clip-path=\"url(#peec35bac9d)\" d=\"M 238.150125 94.176 \nL 291.718125 94.176 \nL 291.718125 137.664 \nL 238.150125 137.664 \nL 238.150125 94.176 \n\" style=\"fill:#e4d9d2;\"/>\n    <path clip-path=\"url(#peec35bac9d)\" d=\"M 23.878125 137.664 \nL 77.446125 137.664 \nL 77.446125 181.152 \nL 23.878125 181.152 \nL 23.878125 137.664 \n\" style=\"fill:#85a8fc;\"/>\n    <path clip-path=\"url(#peec35bac9d)\" d=\"M 77.446125 137.664 \nL 131.014125 137.664 \nL 131.014125 181.152 \nL 77.446125 181.152 \nL 77.446125 137.664 \n\" style=\"fill:#cc403a;\"/>\n    <path clip-path=\"url(#peec35bac9d)\" d=\"M 131.014125 137.664 \nL 184.582125 137.664 \nL 184.582125 181.152 \nL 131.014125 181.152 \nL 131.014125 137.664 \n\" style=\"fill:#a7c5fe;\"/>\n    <path clip-path=\"url(#peec35bac9d)\" d=\"M 184.582125 137.664 \nL 238.150125 137.664 \nL 238.150125 181.152 \nL 184.582125 181.152 \nL 184.582125 137.664 \n\" style=\"fill:#b40426;\"/>\n    <path clip-path=\"url(#peec35bac9d)\" d=\"M 238.150125 137.664 \nL 291.718125 137.664 \nL 291.718125 181.152 \nL 238.150125 181.152 \nL 238.150125 137.664 \n\" style=\"fill:#8caffe;\"/>\n    <path clip-path=\"url(#peec35bac9d)\" d=\"M 23.878125 181.152 \nL 77.446125 181.152 \nL 77.446125 224.64 \nL 23.878125 224.64 \nL 23.878125 181.152 \n\" style=\"fill:#4358cb;\"/>\n    <path clip-path=\"url(#peec35bac9d)\" d=\"M 77.446125 181.152 \nL 131.014125 181.152 \nL 131.014125 224.64 \nL 77.446125 224.64 \nL 77.446125 181.152 \n\" style=\"fill:#5572df;\"/>\n    <path clip-path=\"url(#peec35bac9d)\" d=\"M 131.014125 181.152 \nL 184.582125 181.152 \nL 184.582125 224.64 \nL 131.014125 224.64 \nL 131.014125 181.152 \n\" style=\"fill:#d5dbe5;\"/>\n    <path clip-path=\"url(#peec35bac9d)\" d=\"M 184.582125 181.152 \nL 238.150125 181.152 \nL 238.150125 224.64 \nL 184.582125 224.64 \nL 184.582125 181.152 \n\" style=\"fill:#ed8366;\"/>\n    <path clip-path=\"url(#peec35bac9d)\" d=\"M 238.150125 181.152 \nL 291.718125 181.152 \nL 291.718125 224.64 \nL 238.150125 224.64 \nL 238.150125 181.152 \n\" style=\"fill:#6485ec;\"/>\n   </g>\n   <g id=\"matplotlib.axis_1\">\n    <g id=\"xtick_1\">\n     <g id=\"line2d_1\">\n      <defs>\n       <path d=\"M 0 0 \nL 0 3.5 \n\" id=\"m18c32a887c\" style=\"stroke:#000000;stroke-width:0.8;\"/>\n      </defs>\n      <g>\n       <use style=\"stroke:#000000;stroke-width:0.8;\" x=\"50.662125\" xlink:href=\"#m18c32a887c\" y=\"224.64\"/>\n      </g>\n     </g>\n     <g id=\"text_1\">\n      <!-- 0 -->\n      <defs>\n       <path d=\"M 31.78125 66.40625 \nQ 24.171875 66.40625 20.328125 58.90625 \nQ 16.5 51.421875 16.5 36.375 \nQ 16.5 21.390625 20.328125 13.890625 \nQ 24.171875 6.390625 31.78125 6.390625 \nQ 39.453125 6.390625 43.28125 13.890625 \nQ 47.125 21.390625 47.125 36.375 \nQ 47.125 51.421875 43.28125 58.90625 \nQ 39.453125 66.40625 31.78125 66.40625 \nz\nM 31.78125 74.21875 \nQ 44.046875 74.21875 50.515625 64.515625 \nQ 56.984375 54.828125 56.984375 36.375 \nQ 56.984375 17.96875 50.515625 8.265625 \nQ 44.046875 -1.421875 31.78125 -1.421875 \nQ 19.53125 -1.421875 13.0625 8.265625 \nQ 6.59375 17.96875 6.59375 36.375 \nQ 6.59375 54.828125 13.0625 64.515625 \nQ 19.53125 74.21875 31.78125 74.21875 \nz\n\" id=\"DejaVuSans-48\"/>\n      </defs>\n      <g transform=\"translate(47.480875 239.238437)scale(0.1 -0.1)\">\n       <use xlink:href=\"#DejaVuSans-48\"/>\n      </g>\n     </g>\n    </g>\n    <g id=\"xtick_2\">\n     <g id=\"line2d_2\">\n      <g>\n       <use style=\"stroke:#000000;stroke-width:0.8;\" x=\"104.230125\" xlink:href=\"#m18c32a887c\" y=\"224.64\"/>\n      </g>\n     </g>\n     <g id=\"text_2\">\n      <!-- 1 -->\n      <defs>\n       <path d=\"M 12.40625 8.296875 \nL 28.515625 8.296875 \nL 28.515625 63.921875 \nL 10.984375 60.40625 \nL 10.984375 69.390625 \nL 28.421875 72.90625 \nL 38.28125 72.90625 \nL 38.28125 8.296875 \nL 54.390625 8.296875 \nL 54.390625 0 \nL 12.40625 0 \nz\n\" id=\"DejaVuSans-49\"/>\n      </defs>\n      <g transform=\"translate(101.048875 239.238437)scale(0.1 -0.1)\">\n       <use xlink:href=\"#DejaVuSans-49\"/>\n      </g>\n     </g>\n    </g>\n    <g id=\"xtick_3\">\n     <g id=\"line2d_3\">\n      <g>\n       <use style=\"stroke:#000000;stroke-width:0.8;\" x=\"157.798125\" xlink:href=\"#m18c32a887c\" y=\"224.64\"/>\n      </g>\n     </g>\n     <g id=\"text_3\">\n      <!-- 2 -->\n      <defs>\n       <path d=\"M 19.1875 8.296875 \nL 53.609375 8.296875 \nL 53.609375 0 \nL 7.328125 0 \nL 7.328125 8.296875 \nQ 12.9375 14.109375 22.625 23.890625 \nQ 32.328125 33.6875 34.8125 36.53125 \nQ 39.546875 41.84375 41.421875 45.53125 \nQ 43.3125 49.21875 43.3125 52.78125 \nQ 43.3125 58.59375 39.234375 62.25 \nQ 35.15625 65.921875 28.609375 65.921875 \nQ 23.96875 65.921875 18.8125 64.3125 \nQ 13.671875 62.703125 7.8125 59.421875 \nL 7.8125 69.390625 \nQ 13.765625 71.78125 18.9375 73 \nQ 24.125 74.21875 28.421875 74.21875 \nQ 39.75 74.21875 46.484375 68.546875 \nQ 53.21875 62.890625 53.21875 53.421875 \nQ 53.21875 48.921875 51.53125 44.890625 \nQ 49.859375 40.875 45.40625 35.40625 \nQ 44.1875 33.984375 37.640625 27.21875 \nQ 31.109375 20.453125 19.1875 8.296875 \nz\n\" id=\"DejaVuSans-50\"/>\n      </defs>\n      <g transform=\"translate(154.616875 239.238437)scale(0.1 -0.1)\">\n       <use xlink:href=\"#DejaVuSans-50\"/>\n      </g>\n     </g>\n    </g>\n    <g id=\"xtick_4\">\n     <g id=\"line2d_4\">\n      <g>\n       <use style=\"stroke:#000000;stroke-width:0.8;\" x=\"211.366125\" xlink:href=\"#m18c32a887c\" y=\"224.64\"/>\n      </g>\n     </g>\n     <g id=\"text_4\">\n      <!-- 3 -->\n      <defs>\n       <path d=\"M 40.578125 39.3125 \nQ 47.65625 37.796875 51.625 33 \nQ 55.609375 28.21875 55.609375 21.1875 \nQ 55.609375 10.40625 48.1875 4.484375 \nQ 40.765625 -1.421875 27.09375 -1.421875 \nQ 22.515625 -1.421875 17.65625 -0.515625 \nQ 12.796875 0.390625 7.625 2.203125 \nL 7.625 11.71875 \nQ 11.71875 9.328125 16.59375 8.109375 \nQ 21.484375 6.890625 26.8125 6.890625 \nQ 36.078125 6.890625 40.9375 10.546875 \nQ 45.796875 14.203125 45.796875 21.1875 \nQ 45.796875 27.640625 41.28125 31.265625 \nQ 36.765625 34.90625 28.71875 34.90625 \nL 20.21875 34.90625 \nL 20.21875 43.015625 \nL 29.109375 43.015625 \nQ 36.375 43.015625 40.234375 45.921875 \nQ 44.09375 48.828125 44.09375 54.296875 \nQ 44.09375 59.90625 40.109375 62.90625 \nQ 36.140625 65.921875 28.71875 65.921875 \nQ 24.65625 65.921875 20.015625 65.03125 \nQ 15.375 64.15625 9.8125 62.3125 \nL 9.8125 71.09375 \nQ 15.4375 72.65625 20.34375 73.4375 \nQ 25.25 74.21875 29.59375 74.21875 \nQ 40.828125 74.21875 47.359375 69.109375 \nQ 53.90625 64.015625 53.90625 55.328125 \nQ 53.90625 49.265625 50.4375 45.09375 \nQ 46.96875 40.921875 40.578125 39.3125 \nz\n\" id=\"DejaVuSans-51\"/>\n      </defs>\n      <g transform=\"translate(208.184875 239.238437)scale(0.1 -0.1)\">\n       <use xlink:href=\"#DejaVuSans-51\"/>\n      </g>\n     </g>\n    </g>\n    <g id=\"xtick_5\">\n     <g id=\"line2d_5\">\n      <g>\n       <use style=\"stroke:#000000;stroke-width:0.8;\" x=\"264.934125\" xlink:href=\"#m18c32a887c\" y=\"224.64\"/>\n      </g>\n     </g>\n     <g id=\"text_5\">\n      <!-- 4 -->\n      <defs>\n       <path d=\"M 37.796875 64.3125 \nL 12.890625 25.390625 \nL 37.796875 25.390625 \nz\nM 35.203125 72.90625 \nL 47.609375 72.90625 \nL 47.609375 25.390625 \nL 58.015625 25.390625 \nL 58.015625 17.1875 \nL 47.609375 17.1875 \nL 47.609375 0 \nL 37.796875 0 \nL 37.796875 17.1875 \nL 4.890625 17.1875 \nL 4.890625 26.703125 \nz\n\" id=\"DejaVuSans-52\"/>\n      </defs>\n      <g transform=\"translate(261.752875 239.238437)scale(0.1 -0.1)\">\n       <use xlink:href=\"#DejaVuSans-52\"/>\n      </g>\n     </g>\n    </g>\n   </g>\n   <g id=\"matplotlib.axis_2\">\n    <g id=\"ytick_1\">\n     <g id=\"line2d_6\">\n      <defs>\n       <path d=\"M 0 0 \nL -3.5 0 \n\" id=\"m9c09ef71fb\" style=\"stroke:#000000;stroke-width:0.8;\"/>\n      </defs>\n      <g>\n       <use style=\"stroke:#000000;stroke-width:0.8;\" x=\"23.878125\" xlink:href=\"#m9c09ef71fb\" y=\"28.944\"/>\n      </g>\n     </g>\n     <g id=\"text_6\">\n      <!-- 0 -->\n      <g transform=\"translate(14.798438 31.507281)rotate(-90)scale(0.1 -0.1)\">\n       <use xlink:href=\"#DejaVuSans-48\"/>\n      </g>\n     </g>\n    </g>\n    <g id=\"ytick_2\">\n     <g id=\"line2d_7\">\n      <g>\n       <use style=\"stroke:#000000;stroke-width:0.8;\" x=\"23.878125\" xlink:href=\"#m9c09ef71fb\" y=\"72.432\"/>\n      </g>\n     </g>\n     <g id=\"text_7\">\n      <!-- 1 -->\n      <g transform=\"translate(14.798438 74.995281)rotate(-90)scale(0.1 -0.1)\">\n       <use xlink:href=\"#DejaVuSans-49\"/>\n      </g>\n     </g>\n    </g>\n    <g id=\"ytick_3\">\n     <g id=\"line2d_8\">\n      <g>\n       <use style=\"stroke:#000000;stroke-width:0.8;\" x=\"23.878125\" xlink:href=\"#m9c09ef71fb\" y=\"115.92\"/>\n      </g>\n     </g>\n     <g id=\"text_8\">\n      <!-- 2 -->\n      <g transform=\"translate(14.798438 118.483281)rotate(-90)scale(0.1 -0.1)\">\n       <use xlink:href=\"#DejaVuSans-50\"/>\n      </g>\n     </g>\n    </g>\n    <g id=\"ytick_4\">\n     <g id=\"line2d_9\">\n      <g>\n       <use style=\"stroke:#000000;stroke-width:0.8;\" x=\"23.878125\" xlink:href=\"#m9c09ef71fb\" y=\"159.408\"/>\n      </g>\n     </g>\n     <g id=\"text_9\">\n      <!-- 3 -->\n      <g transform=\"translate(14.798438 161.971281)rotate(-90)scale(0.1 -0.1)\">\n       <use xlink:href=\"#DejaVuSans-51\"/>\n      </g>\n     </g>\n    </g>\n    <g id=\"ytick_5\">\n     <g id=\"line2d_10\">\n      <g>\n       <use style=\"stroke:#000000;stroke-width:0.8;\" x=\"23.878125\" xlink:href=\"#m9c09ef71fb\" y=\"202.896\"/>\n      </g>\n     </g>\n     <g id=\"text_10\">\n      <!-- 4 -->\n      <g transform=\"translate(14.798438 205.459281)rotate(-90)scale(0.1 -0.1)\">\n       <use xlink:href=\"#DejaVuSans-52\"/>\n      </g>\n     </g>\n    </g>\n   </g>\n  </g>\n  <g id=\"axes_2\">\n   <g id=\"patch_3\">\n    <path clip-path=\"url(#pe7ab4adec4)\" d=\"M 308.458125 224.64 \nL 308.458125 223.790625 \nL 308.458125 8.049375 \nL 308.458125 7.2 \nL 319.330125 7.2 \nL 319.330125 8.049375 \nL 319.330125 223.790625 \nL 319.330125 224.64 \nz\n\" style=\"fill:#ffffff;stroke:#ffffff;stroke-linejoin:miter;stroke-width:0.01;\"/>\n   </g>\n   <image height=\"217\" id=\"imagef5fd7ffdfa\" transform=\"scale(1 -1)translate(0 -217)\" width=\"11\" x=\"308\" xlink:href=\"data:image/png;base64,\niVBORw0KGgoAAAANSUhEUgAAAAsAAADZCAYAAAD2WsoCAAAABHNCSVQICAgIfAhkiAAAAWlJREFUaIHd1sFxwzAQQ1FyqbJSQ4pOUznIItMC3wEzVHzewQAfMO3+9f2z2ubn6tV3b9vVe8GxKI9rnGCjV0q5xHNdYiNGo4hGJ86yjSHbsLpp/IROjmMByUauwSJ0Nv430ti+RRrEGce/fYuchz25YCO5DbFhNMiz2LBtgLJ9u0k5N9FYg2RjGA04tolSg6YMx/AzGK07F9Aa3P4Xf0zAIs/2yMBxb2AjOSSwMeQYG4wNSThXyXGsQaJhAW1IM2TD6t4+DaMTGjkbQc5H1G3KseNqDyhTwBULuKDBWhIwZgOVz6BhDYKNFgtonCfREBsSsJkyHafqJs+5uk15fsSG0Jgpz7gN8vzPabQHxp/b8ytpHOJ5gvKK0Vg5GjHl9ZGAsVKo7kXKgm5Z3UcEtNWJ8ow9BbmAKzf+nOdDlGPjT9KQPUvd83lfwGNoHIGOPBONRcoxdBbwjtVtnEX5Tik/v7K6G45jAf8A3LUqTkJHREAAAAAASUVORK5CYII=\" y=\"-7\"/>\n   <g id=\"matplotlib.axis_3\"/>\n   <g id=\"matplotlib.axis_4\">\n    <g id=\"ytick_6\">\n     <g id=\"line2d_11\">\n      <defs>\n       <path d=\"M 0 0 \nL 3.5 0 \n\" id=\"mb9ceaf34b3\" style=\"stroke:#000000;stroke-width:0.8;\"/>\n      </defs>\n      <g>\n       <use style=\"stroke:#000000;stroke-width:0.8;\" x=\"319.330125\" xlink:href=\"#mb9ceaf34b3\" y=\"186.342423\"/>\n      </g>\n     </g>\n     <g id=\"text_11\">\n      <!-- 0.2 -->\n      <defs>\n       <path d=\"M 10.6875 12.40625 \nL 21 12.40625 \nL 21 0 \nL 10.6875 0 \nz\n\" id=\"DejaVuSans-46\"/>\n      </defs>\n      <g transform=\"translate(326.330125 190.141641)scale(0.1 -0.1)\">\n       <use xlink:href=\"#DejaVuSans-48\"/>\n       <use x=\"63.623047\" xlink:href=\"#DejaVuSans-46\"/>\n       <use x=\"95.410156\" xlink:href=\"#DejaVuSans-50\"/>\n      </g>\n     </g>\n    </g>\n    <g id=\"ytick_7\">\n     <g id=\"line2d_12\">\n      <g>\n       <use style=\"stroke:#000000;stroke-width:0.8;\" x=\"319.330125\" xlink:href=\"#mb9ceaf34b3\" y=\"141.547338\"/>\n      </g>\n     </g>\n     <g id=\"text_12\">\n      <!-- 0.4 -->\n      <g transform=\"translate(326.330125 145.346557)scale(0.1 -0.1)\">\n       <use xlink:href=\"#DejaVuSans-48\"/>\n       <use x=\"63.623047\" xlink:href=\"#DejaVuSans-46\"/>\n       <use x=\"95.410156\" xlink:href=\"#DejaVuSans-52\"/>\n      </g>\n     </g>\n    </g>\n    <g id=\"ytick_8\">\n     <g id=\"line2d_13\">\n      <g>\n       <use style=\"stroke:#000000;stroke-width:0.8;\" x=\"319.330125\" xlink:href=\"#mb9ceaf34b3\" y=\"96.752254\"/>\n      </g>\n     </g>\n     <g id=\"text_13\">\n      <!-- 0.6 -->\n      <defs>\n       <path d=\"M 33.015625 40.375 \nQ 26.375 40.375 22.484375 35.828125 \nQ 18.609375 31.296875 18.609375 23.390625 \nQ 18.609375 15.53125 22.484375 10.953125 \nQ 26.375 6.390625 33.015625 6.390625 \nQ 39.65625 6.390625 43.53125 10.953125 \nQ 47.40625 15.53125 47.40625 23.390625 \nQ 47.40625 31.296875 43.53125 35.828125 \nQ 39.65625 40.375 33.015625 40.375 \nz\nM 52.59375 71.296875 \nL 52.59375 62.3125 \nQ 48.875 64.0625 45.09375 64.984375 \nQ 41.3125 65.921875 37.59375 65.921875 \nQ 27.828125 65.921875 22.671875 59.328125 \nQ 17.53125 52.734375 16.796875 39.40625 \nQ 19.671875 43.65625 24.015625 45.921875 \nQ 28.375 48.1875 33.59375 48.1875 \nQ 44.578125 48.1875 50.953125 41.515625 \nQ 57.328125 34.859375 57.328125 23.390625 \nQ 57.328125 12.15625 50.6875 5.359375 \nQ 44.046875 -1.421875 33.015625 -1.421875 \nQ 20.359375 -1.421875 13.671875 8.265625 \nQ 6.984375 17.96875 6.984375 36.375 \nQ 6.984375 53.65625 15.1875 63.9375 \nQ 23.390625 74.21875 37.203125 74.21875 \nQ 40.921875 74.21875 44.703125 73.484375 \nQ 48.484375 72.75 52.59375 71.296875 \nz\n\" id=\"DejaVuSans-54\"/>\n      </defs>\n      <g transform=\"translate(326.330125 100.551472)scale(0.1 -0.1)\">\n       <use xlink:href=\"#DejaVuSans-48\"/>\n       <use x=\"63.623047\" xlink:href=\"#DejaVuSans-46\"/>\n       <use x=\"95.410156\" xlink:href=\"#DejaVuSans-54\"/>\n      </g>\n     </g>\n    </g>\n    <g id=\"ytick_9\">\n     <g id=\"line2d_14\">\n      <g>\n       <use style=\"stroke:#000000;stroke-width:0.8;\" x=\"319.330125\" xlink:href=\"#mb9ceaf34b3\" y=\"51.957169\"/>\n      </g>\n     </g>\n     <g id=\"text_14\">\n      <!-- 0.8 -->\n      <defs>\n       <path d=\"M 31.78125 34.625 \nQ 24.75 34.625 20.71875 30.859375 \nQ 16.703125 27.09375 16.703125 20.515625 \nQ 16.703125 13.921875 20.71875 10.15625 \nQ 24.75 6.390625 31.78125 6.390625 \nQ 38.8125 6.390625 42.859375 10.171875 \nQ 46.921875 13.96875 46.921875 20.515625 \nQ 46.921875 27.09375 42.890625 30.859375 \nQ 38.875 34.625 31.78125 34.625 \nz\nM 21.921875 38.8125 \nQ 15.578125 40.375 12.03125 44.71875 \nQ 8.5 49.078125 8.5 55.328125 \nQ 8.5 64.0625 14.71875 69.140625 \nQ 20.953125 74.21875 31.78125 74.21875 \nQ 42.671875 74.21875 48.875 69.140625 \nQ 55.078125 64.0625 55.078125 55.328125 \nQ 55.078125 49.078125 51.53125 44.71875 \nQ 48 40.375 41.703125 38.8125 \nQ 48.828125 37.15625 52.796875 32.3125 \nQ 56.78125 27.484375 56.78125 20.515625 \nQ 56.78125 9.90625 50.3125 4.234375 \nQ 43.84375 -1.421875 31.78125 -1.421875 \nQ 19.734375 -1.421875 13.25 4.234375 \nQ 6.78125 9.90625 6.78125 20.515625 \nQ 6.78125 27.484375 10.78125 32.3125 \nQ 14.796875 37.15625 21.921875 38.8125 \nz\nM 18.3125 54.390625 \nQ 18.3125 48.734375 21.84375 45.5625 \nQ 25.390625 42.390625 31.78125 42.390625 \nQ 38.140625 42.390625 41.71875 45.5625 \nQ 45.3125 48.734375 45.3125 54.390625 \nQ 45.3125 60.0625 41.71875 63.234375 \nQ 38.140625 66.40625 31.78125 66.40625 \nQ 25.390625 66.40625 21.84375 63.234375 \nQ 18.3125 60.0625 18.3125 54.390625 \nz\n\" id=\"DejaVuSans-56\"/>\n      </defs>\n      <g transform=\"translate(326.330125 55.756388)scale(0.1 -0.1)\">\n       <use xlink:href=\"#DejaVuSans-48\"/>\n       <use x=\"63.623047\" xlink:href=\"#DejaVuSans-46\"/>\n       <use x=\"95.410156\" xlink:href=\"#DejaVuSans-56\"/>\n      </g>\n     </g>\n    </g>\n   </g>\n   <g id=\"patch_4\">\n    <path d=\"M 308.458125 224.64 \nL 308.458125 223.790625 \nL 308.458125 8.049375 \nL 308.458125 7.2 \nL 319.330125 7.2 \nL 319.330125 8.049375 \nL 319.330125 223.790625 \nL 319.330125 224.64 \nz\n\" style=\"fill:none;\"/>\n   </g>\n  </g>\n </g>\n <defs>\n  <clipPath id=\"peec35bac9d\">\n   <rect height=\"217.44\" width=\"267.84\" x=\"23.878125\" y=\"7.2\"/>\n  </clipPath>\n  <clipPath id=\"pe7ab4adec4\">\n   <rect height=\"217.44\" width=\"10.872\" x=\"308.458125\" y=\"7.2\"/>\n  </clipPath>\n </defs>\n</svg>\n",
      "image/png": "[encoded data removed]"
     },
     "metadata": {
      "needs_background": "light"
     }
    }
   ],
   "source": [
    "import numpy as np\n",
    "import seaborn as sns\n",
    "\n",
    "# create pitch grid, this is a quick and dirty example\n",
    "pitch_matrix = np.random.rand(5,5)\n",
    "\n",
    "print(pitch_matrix)\n",
    "\n",
    "# plot the matrix using seaborn.heatmap()\n",
    "# of course its up to you to choose which parameters you want\n",
    "# docs are here : https://seaborn.pydata.org/generated/seaborn.heatmap.html\n",
    "sns.heatmap(pitch_matrix, cbar=True, cmap=\"coolwarm\")"
   ]
  },
  {
   "cell_type": "code",
   "execution_count": null,
   "metadata": {},
   "outputs": [],
   "source": []
  }
 ]
}