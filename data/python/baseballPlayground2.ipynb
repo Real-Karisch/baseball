{
 "metadata": {
  "language_info": {
   "codemirror_mode": {
    "name": "ipython",
    "version": 3
   },
   "file_extension": ".py",
   "mimetype": "text/x-python",
   "name": "python",
   "nbconvert_exporter": "python",
   "pygments_lexer": "ipython3",
   "version": "3.7.6-final"
  },
  "orig_nbformat": 2,
  "kernelspec": {
   "name": "Python 3.7.6 64-bit ('base': conda)",
   "display_name": "Python 3.7.6 64-bit ('base': conda)",
   "metadata": {
    "interpreter": {
     "hash": "e7ad3e331d89125a35e1aa51e4cbfadb7339476d992231fff57158d187b2117c"
    }
   }
  }
 },
 "nbformat": 4,
 "nbformat_minor": 2,
 "cells": [
  {
   "cell_type": "code",
   "execution_count": 1,
   "metadata": {},
   "outputs": [],
   "source": [
    "import statsapi\n",
    "import psycopg2\n",
    "import re\n",
    "import time\n",
    "\n",
    "import pandas as pd\n",
    "import numpy as np\n",
    "\n",
    "from testGame import testGameJson\n",
    "from api2psqlPopulateFns import *\n",
    "from api2psqlSupporting import *"
   ]
  },
  {
   "cell_type": "code",
   "execution_count": 5,
   "metadata": {},
   "outputs": [
    {
     "output_type": "stream",
     "name": "stdout",
     "text": [
      "ID:  1 , Name:  Major League Baseball\nID:  11 , Name:  Triple-A\nID:  12 , Name:  Double-A\nID:  13 , Name:  Class A Advanced\nID:  14 , Name:  Class A\nID:  15 , Name:  Class A Short Season\nID:  5442 , Name:  Rookie Advanced\nID:  16 , Name:  Rookie\nID:  17 , Name:  Winter Leagues\nID:  8 , Name:  Organized Baseball\nID:  21 , Name:  Minor League Baseball\nID:  23 , Name:  Independent Leagues\nID:  31 , Name:  Japanese Major League Baseball\nID:  51 , Name:  International Baseball\nID:  508 , Name:  International Baseball (Collegiate)\nID:  509 , Name:  International Baseball (18 and under)\nID:  600 , Name:  International Baseball (17 and under)\nID:  510 , Name:  International Baseball (16 and under)\nID:  512 , Name:  Women's Baseball\nID:  22 , Name:  College Baseball\nID:  586 , Name:  High School Baseball\n"
     ]
    }
   ],
   "source": [
    "sports = statsapi.get('sports', {})['sports']\n",
    "for sport in sports:\n",
    "    print('ID: ', sport['id'], ', Name: ', sport['name'])"
   ]
  },
  {
   "cell_type": "code",
   "execution_count": 43,
   "metadata": {},
   "outputs": [
    {
     "output_type": "execute_result",
     "data": {
      "text/plain": [
       "{'id': 13,\n",
       " 'code': 'afa',\n",
       " 'link': '/api/v1/sports/13',\n",
       " 'name': 'Class A Advanced',\n",
       " 'abbreviation': 'A(Adv)',\n",
       " 'sortOrder': 501,\n",
       " 'activeStatus': True}"
      ]
     },
     "metadata": {},
     "execution_count": 43
    }
   ],
   "source": [
    "sports[3]"
   ]
  },
  {
   "cell_type": "code",
   "execution_count": 44,
   "metadata": {},
   "outputs": [],
   "source": [
    "jack = generateGamePksFromDates('07/01/2019', '07/03/2019', sportId=13)"
   ]
  },
  {
   "cell_type": "code",
   "execution_count": 45,
   "metadata": {},
   "outputs": [],
   "source": [
    "game = statsapi.get('game', {'gamePk': jack[0]})"
   ]
  },
  {
   "cell_type": "code",
   "execution_count": 39,
   "metadata": {},
   "outputs": [
    {
     "output_type": "execute_result",
     "data": {
      "text/plain": [
       "{'copyright': 'Copyright 2020 MLB Advanced Media, L.P.  Use of any content on this page acknowledges agreement to the terms posted here http://gdx.mlb.com/components/copyright.txt',\n",
       " 'seasons': [{'seasonId': '2019',\n",
       "   'hasWildcard': True,\n",
       "   'regularSeasonStartDate': '2019-04-04',\n",
       "   'regularSeasonEndDate': '2019-09-02',\n",
       "   'postSeasonStartDate': '2019-09-03',\n",
       "   'postSeasonEndDate': '2019-09-15',\n",
       "   'seasonStartDate': '2019-04-04',\n",
       "   'seasonEndDate': '2019-09-15'}]}"
      ]
     },
     "metadata": {},
     "execution_count": 39
    }
   ],
   "source": [
    "statsapi.get('season', {'seasonId': 2019, 'sportId': 13})"
   ]
  },
  {
   "cell_type": "code",
   "execution_count": 93,
   "metadata": {},
   "outputs": [
    {
     "output_type": "execute_result",
     "data": {
      "text/plain": [
       "{'result': {'type': 'atBat',\n",
       "  'event': 'Groundout',\n",
       "  'eventType': 'field_out',\n",
       "  'description': 'Tyler Frost grounds out, second baseman Josh Altmann to first baseman Curtis Terry.  ',\n",
       "  'rbi': 0,\n",
       "  'awayScore': 0,\n",
       "  'homeScore': 0},\n",
       " 'about': {'atBatIndex': 0,\n",
       "  'halfInning': 'top',\n",
       "  'isTopInning': True,\n",
       "  'inning': 1,\n",
       "  'startTime': '2019-07-01T21:15:40.141Z',\n",
       "  'endTime': '2019-07-01T22:59:20.983Z',\n",
       "  'isComplete': True,\n",
       "  'isScoringPlay': False,\n",
       "  'hasReview': False,\n",
       "  'hasOut': True,\n",
       "  'captivatingIndex': 0},\n",
       " 'count': {'balls': 0, 'strikes': 0, 'outs': 1},\n",
       " 'matchup': {'batter': {'id': 676718,\n",
       "   'fullName': 'Tyler Frost',\n",
       "   'link': '/api/v1/people/676718'},\n",
       "  'batSide': {'code': 'L', 'description': 'Left'},\n",
       "  'pitcher': {'id': 676341,\n",
       "   'fullName': 'Alex Eubanks',\n",
       "   'link': '/api/v1/people/676341'},\n",
       "  'pitchHand': {'code': 'R', 'description': 'Right'},\n",
       "  'batterHotColdZones': [],\n",
       "  'pitcherHotColdZones': [],\n",
       "  'splits': {'batter': 'vs_RHP', 'pitcher': 'vs_LHB', 'menOnBase': 'Empty'}},\n",
       " 'pitchIndex': [3],\n",
       " 'actionIndex': [0, 1, 2],\n",
       " 'runnerIndex': [0],\n",
       " 'runners': [{'movement': {'start': None,\n",
       "    'end': None,\n",
       "    'outBase': '1B',\n",
       "    'isOut': True,\n",
       "    'outNumber': 1},\n",
       "   'details': {'event': 'Groundout',\n",
       "    'eventType': 'field_out',\n",
       "    'movementReason': None,\n",
       "    'runner': {'id': 676718,\n",
       "     'fullName': 'Tyler Frost',\n",
       "     'link': '/api/v1/people/676718'},\n",
       "    'responsiblePitcher': None,\n",
       "    'isScoringEvent': False,\n",
       "    'rbi': False,\n",
       "    'earned': False,\n",
       "    'teamUnearned': False,\n",
       "    'playIndex': 3},\n",
       "   'credits': [{'player': {'id': 664938, 'link': '/api/v1/people/664938'},\n",
       "     'position': {'code': '4',\n",
       "      'name': 'Second Base',\n",
       "      'type': 'Infielder',\n",
       "      'abbreviation': '2B'},\n",
       "     'credit': 'f_assist'},\n",
       "    {'player': {'id': 663799, 'link': '/api/v1/people/663799'},\n",
       "     'position': {'code': '3',\n",
       "      'name': 'First Base',\n",
       "      'type': 'Infielder',\n",
       "      'abbreviation': '1B'},\n",
       "     'credit': 'f_putout'}]}],\n",
       " 'playEvents': [{'details': {'description': 'Status Change - Pre-Game',\n",
       "    'event': 'Game Advisory',\n",
       "    'eventType': 'game_advisory',\n",
       "    'awayScore': 0,\n",
       "    'homeScore': 0,\n",
       "    'isScoringPlay': False,\n",
       "    'hasReview': False},\n",
       "   'count': {'balls': 0, 'strikes': 0, 'outs': 0},\n",
       "   'index': 0,\n",
       "   'startTime': '2019-07-01T21:15:40.141Z',\n",
       "   'endTime': '2019-07-01T22:50:54.043Z',\n",
       "   'isPitch': False,\n",
       "   'type': 'action',\n",
       "   'player': {'id': 676718, 'link': '/api/v1/people/676718'}},\n",
       "  {'details': {'description': 'Status Change - Warmup',\n",
       "    'event': 'Game Advisory',\n",
       "    'eventType': 'game_advisory',\n",
       "    'awayScore': 0,\n",
       "    'homeScore': 0,\n",
       "    'isScoringPlay': False,\n",
       "    'hasReview': False},\n",
       "   'count': {'balls': 0, 'strikes': 0, 'outs': 0},\n",
       "   'index': 1,\n",
       "   'startTime': '2019-07-01T22:50:54.043Z',\n",
       "   'endTime': '2019-07-01T22:58:49.550Z',\n",
       "   'isPitch': False,\n",
       "   'type': 'action',\n",
       "   'player': {'id': 676718, 'link': '/api/v1/people/676718'}},\n",
       "  {'details': {'description': 'Status Change - In Progress',\n",
       "    'event': 'Game Advisory',\n",
       "    'eventType': 'game_advisory',\n",
       "    'awayScore': 0,\n",
       "    'homeScore': 0,\n",
       "    'isScoringPlay': False,\n",
       "    'hasReview': False},\n",
       "   'count': {'balls': 0, 'strikes': 0, 'outs': 0},\n",
       "   'index': 2,\n",
       "   'startTime': '2019-07-01T22:58:49.550Z',\n",
       "   'endTime': '2019-07-01T22:59:15.110Z',\n",
       "   'isPitch': False,\n",
       "   'type': 'action',\n",
       "   'player': {'id': 676718, 'link': '/api/v1/people/676718'}},\n",
       "  {'details': {'call': {'code': 'X', 'description': 'In play, out(s)'},\n",
       "    'description': 'In play, out(s)',\n",
       "    'code': 'X',\n",
       "    'ballColor': 'rgba(26, 86, 190, 1.0)',\n",
       "    'isInPlay': True,\n",
       "    'isStrike': False,\n",
       "    'isBall': False,\n",
       "    'hasReview': False},\n",
       "   'count': {'balls': 0, 'strikes': 0},\n",
       "   'pitchData': {'strikeZoneTop': 3.301,\n",
       "    'strikeZoneBottom': 1.504,\n",
       "    'coordinates': {'x': 100.19, 'y': 150.7},\n",
       "    'breaks': {}},\n",
       "   'hitData': {'trajectory': 'ground_ball',\n",
       "    'hardness': 'medium',\n",
       "    'location': '4',\n",
       "    'coordinates': {'coordX': 144.7, 'coordY': 168.41}},\n",
       "   'index': 3,\n",
       "   'playId': '05817726-0016-0013-000c-f08cd117d70a',\n",
       "   'pitchNumber': 1,\n",
       "   'startTime': '2019-07-01T22:59:15.110Z',\n",
       "   'endTime': '2019-07-01T22:59:20.983Z',\n",
       "   'isPitch': True,\n",
       "   'type': 'pitch'}],\n",
       " 'atBatIndex': 0,\n",
       " 'playEndTime': '2019-07-01T22:59:20.983Z'}"
      ]
     },
     "metadata": {},
     "execution_count": 93
    }
   ],
   "source": [
    "game['liveData']['plays']['allPlays'][0]\n",
    "#game['gameData']['teams']['home']['sport']['id']"
   ]
  }
 ]
}