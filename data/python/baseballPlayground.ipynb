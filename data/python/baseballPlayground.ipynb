{
 "metadata": {
  "language_info": {
   "codemirror_mode": {
    "name": "ipython",
    "version": 3
   },
   "file_extension": ".py",
   "mimetype": "text/x-python",
   "name": "python",
   "nbconvert_exporter": "python",
   "pygments_lexer": "ipython3",
   "version": "3.7.10"
  },
  "orig_nbformat": 2,
  "kernelspec": {
   "name": "python3710jvsc74a57bd0e7ad3e331d89125a35e1aa51e4cbfadb7339476d992231fff57158d187b2117c",
   "display_name": "Python 3.7.10 64-bit ('base': conda)"
  }
 },
 "nbformat": 4,
 "nbformat_minor": 2,
 "cells": [
  {
   "cell_type": "code",
   "execution_count": 1,
   "metadata": {},
   "outputs": [],
   "source": [
    "import statsapi\n",
    "import psycopg2\n",
    "import re\n",
    "import time\n",
    "import datetime\n",
    "\n",
    "import pandas as pd\n",
    "import numpy as np\n",
    "\n",
    "from testGame import testGameJson\n",
    "from api2psqlPopulateFns import *\n",
    "from api2psqlSupporting import *"
   ]
  },
  {
   "cell_type": "code",
   "execution_count": 12,
   "metadata": {},
   "outputs": [],
   "source": [
    "conn = psycopg2.connect(\n",
    "    host = \"localhost\",\n",
    "    database = \"baseball\",\n",
    "    user = \"karisch\",\n",
    "    password = \"cocacola\",\n",
    "    port = 5432\n",
    ")"
   ]
  },
  {
   "cell_type": "code",
   "execution_count": 3,
   "metadata": {},
   "outputs": [],
   "source": [
    "updateMajorTablesMaster(conn, '01/01/2020', '12/31/2020')"
   ]
  },
  {
   "cell_type": "code",
   "execution_count": 4,
   "metadata": {},
   "outputs": [],
   "source": [
    "updateMinorTablesMaster(conn, '01/01/2020', '12/31/2020')"
   ]
  },
  {
   "cell_type": "code",
   "execution_count": 2,
   "metadata": {},
   "outputs": [],
   "source": [
    "def strMonth(month):\n",
    "    if month < 10:\n",
    "        output = '0' + str(month)\n",
    "    elif month == 13:\n",
    "        output = '01'\n",
    "    else:\n",
    "        output = str(month)\n",
    "\n",
    "    return output\n",
    "\n",
    "def minorDriver(year, dbConnection):\n",
    "    start = time.time()\n",
    "    newMid = time.time()\n",
    "\n",
    "    month = 1\n",
    "\n",
    "    year = str(year)\n",
    "\n",
    "    for i in range(12):\n",
    "        activeStart = strMonth(month) + '/02/' + year\n",
    "        activeEnd = strMonth(month + 1) + '/01/' + year\n",
    "        print('Working on ', activeStart, 'to', activeEnd)\n",
    "        oldMid = newMid\n",
    "        newMid = time.time()\n",
    "        print('Time taken on last pull: ', newMid - oldMid)\n",
    "        updateMinorTablesMaster(dbConnection, activeStart, activeEnd)\n",
    "        \n",
    "        month += 1\n"
   ]
  },
  {
   "cell_type": "code",
   "execution_count": 3,
   "metadata": {},
   "outputs": [
    {
     "output_type": "stream",
     "name": "stdout",
     "text": [
      "2015\n7.442633310953776e-06\n"
     ]
    },
    {
     "output_type": "error",
     "ename": "HTTPError",
     "evalue": "530 Server Error:  for url: https://statsapi.mlb.com/api/v1.1/game/423968/feed/live",
     "traceback": [
      "\u001b[0;31m---------------------------------------------------------------------------\u001b[0m",
      "\u001b[0;31mHTTPError\u001b[0m                                 Traceback (most recent call last)",
      "\u001b[0;32m<ipython-input-3-b312762c7985>\u001b[0m in \u001b[0;36m<module>\u001b[0;34m\u001b[0m\n\u001b[1;32m      6\u001b[0m     \u001b[0mdateStart\u001b[0m \u001b[0;34m=\u001b[0m \u001b[0;34m'01/01/'\u001b[0m \u001b[0;34m+\u001b[0m \u001b[0mstr\u001b[0m\u001b[0;34m(\u001b[0m\u001b[0myear\u001b[0m\u001b[0;34m)\u001b[0m\u001b[0;34m\u001b[0m\u001b[0;34m\u001b[0m\u001b[0m\n\u001b[1;32m      7\u001b[0m     \u001b[0mdateEnd\u001b[0m \u001b[0;34m=\u001b[0m \u001b[0;34m'12/31/'\u001b[0m \u001b[0;34m+\u001b[0m \u001b[0mstr\u001b[0m\u001b[0;34m(\u001b[0m\u001b[0myear\u001b[0m\u001b[0;34m)\u001b[0m\u001b[0;34m\u001b[0m\u001b[0;34m\u001b[0m\u001b[0m\n\u001b[0;32m----> 8\u001b[0;31m     \u001b[0mupdateMinorTablesMaster\u001b[0m\u001b[0;34m(\u001b[0m\u001b[0mconn\u001b[0m\u001b[0;34m,\u001b[0m \u001b[0mdateStart\u001b[0m\u001b[0;34m,\u001b[0m \u001b[0mdateEnd\u001b[0m\u001b[0;34m)\u001b[0m\u001b[0;34m\u001b[0m\u001b[0;34m\u001b[0m\u001b[0m\n\u001b[0m\u001b[1;32m      9\u001b[0m \u001b[0mend\u001b[0m \u001b[0;34m=\u001b[0m \u001b[0mtime\u001b[0m\u001b[0;34m.\u001b[0m\u001b[0mtime\u001b[0m\u001b[0;34m(\u001b[0m\u001b[0;34m)\u001b[0m\u001b[0;34m\u001b[0m\u001b[0;34m\u001b[0m\u001b[0m\n",
      "\u001b[0;32m~/programming/projects/baseballData/python/api2psqlPopulateFns.py\u001b[0m in \u001b[0;36mupdateMinorTablesMaster\u001b[0;34m(dbConnection, startDate, endDate)\u001b[0m\n\u001b[1;32m    763\u001b[0m         \u001b[0mendDate\u001b[0m\u001b[0;34m,\u001b[0m\u001b[0;34m\u001b[0m\u001b[0;34m\u001b[0m\u001b[0m\n\u001b[1;32m    764\u001b[0m         \u001b[0mpathListListDictMinor\u001b[0m\u001b[0;34m,\u001b[0m\u001b[0;34m\u001b[0m\u001b[0;34m\u001b[0m\u001b[0m\n\u001b[0;32m--> 765\u001b[0;31m         \u001b[0mcommandDictMinor\u001b[0m\u001b[0;34m,\u001b[0m\u001b[0;34m\u001b[0m\u001b[0;34m\u001b[0m\u001b[0m\n\u001b[0m\u001b[1;32m    766\u001b[0m         \u001b[0mgamesPulled\u001b[0m\u001b[0;34m\u001b[0m\u001b[0;34m\u001b[0m\u001b[0m\n\u001b[1;32m    767\u001b[0m     )\n",
      "\u001b[0;32m~/programming/projects/baseballData/python/api2psqlPopulateFns.py\u001b[0m in \u001b[0;36mpopulateGamesTablesMaster\u001b[0;34m(dbConnection, schema, startDate, endDate, pathListListDict, commandDict, gamesPulled)\u001b[0m\n\u001b[1;32m    489\u001b[0m     \u001b[0;32mfor\u001b[0m \u001b[0mgamePk\u001b[0m \u001b[0;32min\u001b[0m \u001b[0mgamePks\u001b[0m\u001b[0;34m:\u001b[0m\u001b[0;34m\u001b[0m\u001b[0;34m\u001b[0m\u001b[0m\n\u001b[1;32m    490\u001b[0m         \u001b[0;32mif\u001b[0m \u001b[0mgamePk\u001b[0m \u001b[0;32mnot\u001b[0m \u001b[0;32min\u001b[0m \u001b[0mgamesPulled\u001b[0m\u001b[0;34m:\u001b[0m\u001b[0;34m\u001b[0m\u001b[0;34m\u001b[0m\u001b[0m\n\u001b[0;32m--> 491\u001b[0;31m             \u001b[0;32mtry\u001b[0m\u001b[0;34m:\u001b[0m\u001b[0;34m\u001b[0m\u001b[0;34m\u001b[0m\u001b[0m\n\u001b[0m\u001b[1;32m    492\u001b[0m                 \u001b[0mgame\u001b[0m \u001b[0;34m=\u001b[0m \u001b[0mstatsapi\u001b[0m\u001b[0;34m.\u001b[0m\u001b[0mget\u001b[0m\u001b[0;34m(\u001b[0m\u001b[0;34m'game'\u001b[0m\u001b[0;34m,\u001b[0m \u001b[0;34m{\u001b[0m\u001b[0;34m'gamePk'\u001b[0m\u001b[0;34m:\u001b[0m \u001b[0mgamePk\u001b[0m\u001b[0;34m}\u001b[0m\u001b[0;34m)\u001b[0m\u001b[0;34m\u001b[0m\u001b[0;34m\u001b[0m\u001b[0m\n\u001b[1;32m    493\u001b[0m             \u001b[0;32mexcept\u001b[0m \u001b[0mConnectionError\u001b[0m\u001b[0;34m:\u001b[0m\u001b[0;34m\u001b[0m\u001b[0;34m\u001b[0m\u001b[0m\n",
      "\u001b[0;32m~/anaconda3/lib/python3.7/site-packages/statsapi/__init__.py\u001b[0m in \u001b[0;36mget\u001b[0;34m(endpoint, params, force)\u001b[0m\n\u001b[1;32m   1642\u001b[0m     \u001b[0mr\u001b[0m \u001b[0;34m=\u001b[0m \u001b[0mrequests\u001b[0m\u001b[0;34m.\u001b[0m\u001b[0mget\u001b[0m\u001b[0;34m(\u001b[0m\u001b[0murl\u001b[0m\u001b[0;34m)\u001b[0m\u001b[0;34m\u001b[0m\u001b[0;34m\u001b[0m\u001b[0m\n\u001b[1;32m   1643\u001b[0m     \u001b[0;32mif\u001b[0m \u001b[0mr\u001b[0m\u001b[0;34m.\u001b[0m\u001b[0mstatus_code\u001b[0m \u001b[0;32mnot\u001b[0m \u001b[0;32min\u001b[0m \u001b[0;34m[\u001b[0m\u001b[0;36m200\u001b[0m\u001b[0;34m,\u001b[0m \u001b[0;36m201\u001b[0m\u001b[0;34m]\u001b[0m\u001b[0;34m:\u001b[0m\u001b[0;34m\u001b[0m\u001b[0;34m\u001b[0m\u001b[0m\n\u001b[0;32m-> 1644\u001b[0;31m         \u001b[0mr\u001b[0m\u001b[0;34m.\u001b[0m\u001b[0mraise_for_status\u001b[0m\u001b[0;34m(\u001b[0m\u001b[0;34m)\u001b[0m\u001b[0;34m\u001b[0m\u001b[0;34m\u001b[0m\u001b[0m\n\u001b[0m\u001b[1;32m   1645\u001b[0m     \u001b[0;32melse\u001b[0m\u001b[0;34m:\u001b[0m\u001b[0;34m\u001b[0m\u001b[0;34m\u001b[0m\u001b[0m\n\u001b[1;32m   1646\u001b[0m         \u001b[0;32mreturn\u001b[0m \u001b[0mr\u001b[0m\u001b[0;34m.\u001b[0m\u001b[0mjson\u001b[0m\u001b[0;34m(\u001b[0m\u001b[0;34m)\u001b[0m\u001b[0;34m\u001b[0m\u001b[0;34m\u001b[0m\u001b[0m\n",
      "\u001b[0;32m~/anaconda3/lib/python3.7/site-packages/requests/models.py\u001b[0m in \u001b[0;36mraise_for_status\u001b[0;34m(self)\u001b[0m\n\u001b[1;32m    938\u001b[0m \u001b[0;34m\u001b[0m\u001b[0m\n\u001b[1;32m    939\u001b[0m         \u001b[0;32mif\u001b[0m \u001b[0mhttp_error_msg\u001b[0m\u001b[0;34m:\u001b[0m\u001b[0;34m\u001b[0m\u001b[0;34m\u001b[0m\u001b[0m\n\u001b[0;32m--> 940\u001b[0;31m             \u001b[0;32mraise\u001b[0m \u001b[0mHTTPError\u001b[0m\u001b[0;34m(\u001b[0m\u001b[0mhttp_error_msg\u001b[0m\u001b[0;34m,\u001b[0m \u001b[0mresponse\u001b[0m\u001b[0;34m=\u001b[0m\u001b[0mself\u001b[0m\u001b[0;34m)\u001b[0m\u001b[0;34m\u001b[0m\u001b[0;34m\u001b[0m\u001b[0m\n\u001b[0m\u001b[1;32m    941\u001b[0m \u001b[0;34m\u001b[0m\u001b[0m\n\u001b[1;32m    942\u001b[0m     \u001b[0;32mdef\u001b[0m \u001b[0mclose\u001b[0m\u001b[0;34m(\u001b[0m\u001b[0mself\u001b[0m\u001b[0;34m)\u001b[0m\u001b[0;34m:\u001b[0m\u001b[0;34m\u001b[0m\u001b[0;34m\u001b[0m\u001b[0m\n",
      "\u001b[0;31mHTTPError\u001b[0m: 530 Server Error:  for url: https://statsapi.mlb.com/api/v1.1/game/423968/feed/live"
     ]
    }
   ],
   "source": [
    "start = time.time()\n",
    "year = '2015'\n",
    "for month in range(1, 13):\n",
    "    print(month)\n",
    "    mid = time.time()\n",
    "    print((mid - start) / 60)\n",
    "    dateStart = '01/' + str(month) + '/' + str(year)\n",
    "    dateEnd = '12/31/' + str(year)\n",
    "    updateMinorTablesMaster(conn, dateStart, dateEnd)\n",
    "end = time.time()"
   ]
  },
  {
   "cell_type": "code",
   "execution_count": 12,
   "metadata": {},
   "outputs": [],
   "source": [
    "conn = psycopg2.connect(\n",
    "    host = \"localhost\",\n",
    "    database = \"baseball\",\n",
    "    user = \"karisch\",\n",
    "    password = \"cocacola\",\n",
    "    port = 5432\n",
    ")"
   ]
  },
  {
   "cell_type": "code",
   "execution_count": 6,
   "metadata": {},
   "outputs": [],
   "source": [
    "conn.commit()\n",
    "conn.close()"
   ]
  },
  {
   "cell_type": "code",
   "execution_count": 5,
   "metadata": {},
   "outputs": [],
   "source": [
    "with conn.cursor() as cur:\n",
    "    cur.execute(\"\"\"SELECT P.* FROM pitches P INNER JOIN games G ON P.\"gamePk\"=G.pk WHERE G.season = 2019 AND G.type = 'R';\"\"\")\n",
    "    jack = cur.fetchall()"
   ]
  },
  {
   "cell_type": "code",
   "execution_count": 6,
   "metadata": {},
   "outputs": [],
   "source": [
    "cols = [\"gamePk\",\"atBatIndex\",\"pitchIndex\",\"callCode\",\"callDesc\",\"isInPlay\",\"isStrike\",\"isBall\",\"typeCode\",\"typeDesc\",\"hasReview\",\"countBalls\",\"countStrikes\",\"startSpeed\",\"endSpeed\",\"szTop\",\"szBottom\",\"aX\",\"aY\",\"aZ\",\"pfxX\",\"pfxZ\",\"pX\",\"pZ\",\"vX0\",\"vY0\",\"vZ0\",\"x\",\"y\",\"x0\",\"y0\",\"z0\",\"breakAngle\",\"breakLength\",\"breakY\",\"spinRate\",\"spinDirection\",\"zone\",\"typeConfidence\",\"plateTime\",\"extension\",\"pitchNumber\",\"launchSpeed\",\"launchAngle\",\"totalDistance\",\"trajectory\",\"hardness\",\"location\",\"coordX\",\"coordY\"]"
   ]
  },
  {
   "cell_type": "code",
   "execution_count": 7,
   "metadata": {},
   "outputs": [],
   "source": [
    "penis = pd.DataFrame(data=jack, columns = cols)"
   ]
  },
  {
   "cell_type": "code",
   "execution_count": 8,
   "metadata": {},
   "outputs": [
    {
     "output_type": "execute_result",
     "data": {
      "text/plain": [
       "(2429,)"
      ]
     },
     "metadata": {},
     "execution_count": 8
    }
   ],
   "source": [
    "penis['gamePk'].unique().shape"
   ]
  }
 ]
}